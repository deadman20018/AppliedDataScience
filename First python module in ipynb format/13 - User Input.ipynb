{
 "cells": [
  {
   "cell_type": "markdown",
   "metadata": {},
   "source": [
    "### 1. Write a program to print the integer and string given, take the input from the user."
   ]
  },
  {
   "cell_type": "markdown",
   "metadata": {},
   "source": [
    "#### Integer = 22\n",
    "#### String = 'Great Learning'\n"
   ]
  },
  {
   "cell_type": "code",
   "execution_count": 8,
   "metadata": {},
   "outputs": [
    {
     "name": "stdout",
     "output_type": "stream",
     "text": [
      "Enter an Integer: 3\n",
      "Enter a String: 3\n",
      "Integer = 3\n",
      "String =  3\n"
     ]
    }
   ],
   "source": [
    "int1 = input(\"Enter an Integer: \")\n",
    "string1=input(\"Enter a String: \")\n",
    "print(\"Integer =\", int1)\n",
    "print(\"String = \", string1)"
   ]
  },
  {
   "cell_type": "markdown",
   "metadata": {},
   "source": [
    "### 2. Write a program that takes age, name and gender of the user as input "
   ]
  },
  {
   "cell_type": "code",
   "execution_count": 4,
   "metadata": {},
   "outputs": [
    {
     "name": "stdout",
     "output_type": "stream",
     "text": [
      "Please enter your age: 3\n",
      "Please enter your name: 3\n",
      "Please enter your gender: 3\n",
      "3\n",
      "3\n",
      "3\n"
     ]
    }
   ],
   "source": [
    "age=input(\"Please enter your age: \")\n",
    "name=input(\"Please enter your name: \")\n",
    "gender=input(\"Please enter your gender: \")\n",
    "print(age)\n",
    "print(name)\n",
    "print(gender)"
   ]
  }
 ],
 "metadata": {
  "kernelspec": {
   "display_name": "Python 3 (ipykernel)",
   "language": "python",
   "name": "python3"
  },
  "language_info": {
   "codemirror_mode": {
    "name": "ipython",
    "version": 3
   },
   "file_extension": ".py",
   "mimetype": "text/x-python",
   "name": "python",
   "nbconvert_exporter": "python",
   "pygments_lexer": "ipython3",
   "version": "3.9.12"
  }
 },
 "nbformat": 4,
 "nbformat_minor": 2
}
