{
 "cells": [
  {
   "cell_type": "markdown",
   "metadata": {},
   "source": [
    "## <center>Introduction to Python Programming – Mini Project</center>\n"
   ]
  },
  {
   "cell_type": "markdown",
   "metadata": {},
   "source": [
    "### Problem 1\n",
    "\n",
    "Write a program to calculate area of shapes. Your program should be capable of calculating the area of a square, rectangle, triangle and a circle. The user should be presented with options to select the shape. Based on which shape is chosen by the user, the program should ask for the appropriate input and print the resulting area on the screen.\n",
    "\n",
    "When the program is run, the screen should display something like this:\n",
    "\n",
    "**Which shape would you like to calculate the area for? Please enter the option number-**<br>\n",
    "**1. Square**<br>\n",
    "**2. Rectangle**<br>\n",
    "**3. Triangle**<br>\n",
    "**4. Circle**<br>\n",
    "**Enter Option: _**\n",
    "\n",
    "Say the user enters the option 1.\n",
    "\n",
    "**Please enter the length of a side: _**\n",
    "\n",
    "If the user enters a value of 5. The output should be:\n",
    "\n",
    "**The area of the square is 25**\n",
    "\n",
    "This program should indicate that the input is invalid if the user enters a character instead of a number as input. For instance if the user enters a value of ‘a’ instead of 5 in the previous example the program should prompt:\n",
    "\n",
    "**Invalid input, please enter a number: _**\n"
   ]
  },
  {
   "cell_type": "code",
   "execution_count": 24,
   "metadata": {},
   "outputs": [
    {
     "name": "stdout",
     "output_type": "stream",
     "text": [
      "Which shape would you like to calculate the area for? Please enter the option number- 1. Square 2. Rectangle 3. Triangle 4. Circle 5. Exit Enter Option: _5\n",
      "Thank you for having used the calculator goodbye\n"
     ]
    }
   ],
   "source": [
    "import math\n",
    "\n",
    "def main():\n",
    "    options=0\n",
    "    while options != \"5\":\n",
    "        options = str(input(\"Which shape would you like to calculate the area for? Please enter the option number- 1. Square 2. Rectangle 3. Triangle 4. Circle 5. Exit Enter Option: _\"))\n",
    "        try:\n",
    "            options = int(options)\n",
    "        except:\n",
    "            print(\"Invalid input, please enter a number: _\")\n",
    "        def area_square():\n",
    "            length = float(input(\"What would you like the length of the square to be? \"))\n",
    "            print(\"The area of the square is: \", length ** 2)\n",
    "        def area_rectangle():\n",
    "            length1 = float(input(\"What would you like the first of the lengths to be?\"))\n",
    "            length2 = float(input(\"What would you like the second of the lengths to be? \"))\n",
    "            print(\"The area of the rectangle is: \", length1 * length2)\n",
    "        def area_triangle():\n",
    "            base = float(input(\"What would you like the base of the triangle to be? \"))\n",
    "            height = float(input(\"What would you like the height of the triangle to be? \"))\n",
    "            print(\"The area of the triangle is: \", (base * height) / 2)\n",
    "        def area_circle():\n",
    "            r = float(input(\"What would you like the value of r to be? \"))\n",
    "            print(\"The area of the circle is: \", math.pi * (r*r))\n",
    "        if options == 1:\n",
    "            area_square()\n",
    "        elif options == 2:\n",
    "            area_rectangle()\n",
    "        elif options == 3:\n",
    "            area_triangle()\n",
    "        elif options == 4:\n",
    "            area_circle()\n",
    "        elif options == 5:\n",
    "            print(\"Thank you for having used the calculator goodbye\")\n",
    "            break\n",
    "main()"
   ]
  },
  {
   "cell_type": "markdown",
   "metadata": {},
   "source": [
    "### Problem 2\n",
    "\n",
    "You have newly joined an organization abc.com. Write a python function that will take your 1st and last name as input and print the official mail as which has a format like firstname.lastname@abc.com\n",
    "\n",
    "When the program is run, the screen should display something like this:\n",
    "\n",
    "Enter your first name: nikhil\n",
    "\n",
    "Enter your last name: agrawal\n",
    "\n",
    "You official email id is nikhil.agrawal@abc.com \n",
    "\n",
    "**Hint:** use string concatenation."
   ]
  },
  {
   "cell_type": "code",
   "execution_count": 27,
   "metadata": {},
   "outputs": [
    {
     "name": "stdout",
     "output_type": "stream",
     "text": [
      "What's your first name: giancarlo\n",
      "What's your last name: borreo\n",
      "Your official email id is:  giancarlo.borreo@abc.com\n"
     ]
    }
   ],
   "source": [
    "def corporate_mail():\n",
    "    firstName = str(input(\"What's your first name: \"))\n",
    "    lastName = str(input(\"What's your last name: \"))\n",
    "    corporateEmail = firstName+\".\"+lastName+\"@\"+\"abc.com\"\n",
    "    print(\"Your official email id is: \", corporateEmail)\n",
    "corporate_mail()"
   ]
  }
 ],
 "metadata": {
  "kernelspec": {
   "display_name": "Python 3 (ipykernel)",
   "language": "python",
   "name": "python3"
  },
  "language_info": {
   "codemirror_mode": {
    "name": "ipython",
    "version": 3
   },
   "file_extension": ".py",
   "mimetype": "text/x-python",
   "name": "python",
   "nbconvert_exporter": "python",
   "pygments_lexer": "ipython3",
   "version": "3.9.12"
  }
 },
 "nbformat": 4,
 "nbformat_minor": 2
}
