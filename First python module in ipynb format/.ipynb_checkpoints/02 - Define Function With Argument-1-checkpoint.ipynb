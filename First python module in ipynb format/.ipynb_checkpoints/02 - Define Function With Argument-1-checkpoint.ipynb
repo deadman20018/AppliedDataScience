{
 "cells": [
  {
   "cell_type": "markdown",
   "metadata": {},
   "source": [
    "## Define Function With Argument"
   ]
  },
  {
   "cell_type": "markdown",
   "metadata": {},
   "source": [
    "- Q1. Define the python function to check whether the number 33 is even or odd"
   ]
  },
  {
   "cell_type": "code",
   "execution_count": 18,
   "metadata": {},
   "outputs": [
    {
     "name": "stdout",
     "output_type": "stream",
     "text": [
      "33  is an odd number\n"
     ]
    }
   ],
   "source": [
    "def isOdd(number):\n",
    "    if number%2==0:\n",
    "        print(number,\" is not an odd number\")\n",
    "    elif number%2!=0:\n",
    "        print(number,\" is an odd number\")\n",
    "isOdd(33)"
   ]
  },
  {
   "cell_type": "markdown",
   "metadata": {},
   "source": [
    "- Q2. Define the python function to calculate the factorial of the number"
   ]
  },
  {
   "cell_type": "code",
   "execution_count": 21,
   "metadata": {},
   "outputs": [
    {
     "name": "stdout",
     "output_type": "stream",
     "text": [
      "The factorial of: 25 is 15511210043330985984000000\n"
     ]
    }
   ],
   "source": [
    "def factorialCalculation(factorialNumber):\n",
    "    counter=1\n",
    "    if factorialNumber < 0:\n",
    "        print(\"This factorial is not possible\")\n",
    "    elif factorialNumber == 0:\n",
    "        print(\"The factorial of 0 is 1\")\n",
    "    else:\n",
    "        for i in range(1, factorialNumber+1):\n",
    "            counter=counter*i\n",
    "        print(\"The factorial of:\",factorialNumber,\"is\",counter)\n",
    "factorialCalculation(25)"
   ]
  },
  {
   "cell_type": "markdown",
   "metadata": {},
   "source": [
    "- Q3. Write the python program to get the unique values from the given list"
   ]
  },
  {
   "cell_type": "markdown",
   "metadata": {},
   "source": [
    "**Use the list given below:**<br>\n",
    "my_list = [1,2,3,3,11,34,3,3,4,5]"
   ]
  },
  {
   "cell_type": "code",
   "execution_count": 55,
   "metadata": {},
   "outputs": [
    {
     "name": "stdout",
     "output_type": "stream",
     "text": [
      "[1, 2, 3, 11, 34, 4, 5]\n"
     ]
    }
   ],
   "source": [
    "# my_list = [1,2,3,3,11,34,3,3,4,5]\n",
    "# my_list[::-1]\n",
    "my_list = [1,2,3,3,11,34,3,3,4,5]\n",
    "def uniqueValues(my_list):\n",
    "    unique_values=[]\n",
    "    for i in my_list:\n",
    "        if i not in unique_values:\n",
    "            unique_values.append(i)\n",
    "    print(unique_values)\n",
    "        \n",
    "            \n",
    "        \n",
    "uniqueValues(my_list)"
   ]
  }
 ],
 "metadata": {
  "kernelspec": {
   "display_name": "Python 3 (ipykernel)",
   "language": "python",
   "name": "python3"
  },
  "language_info": {
   "codemirror_mode": {
    "name": "ipython",
    "version": 3
   },
   "file_extension": ".py",
   "mimetype": "text/x-python",
   "name": "python",
   "nbconvert_exporter": "python",
   "pygments_lexer": "ipython3",
   "version": "3.9.12"
  }
 },
 "nbformat": 4,
 "nbformat_minor": 2
}
