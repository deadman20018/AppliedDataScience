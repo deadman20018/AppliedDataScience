{
  "cells": [
    {
      "cell_type": "markdown",
      "metadata": {
        "id": "view-in-github",
        "colab_type": "text"
      },
      "source": [
        "<a href=\"https://colab.research.google.com/github/deadman20018/AppliedDataScience/blob/main/CNN_Project_Learner_Notebook_SVHN.ipynb\" target=\"_parent\"><img src=\"https://colab.research.google.com/assets/colab-badge.svg\" alt=\"Open In Colab\"/></a>"
      ]
    },
    {
      "cell_type": "markdown",
      "metadata": {
        "id": "Q91KqmCRu64D"
      },
      "source": [
        "# **Convolutional Neural Networks Project: Street View Housing Number Digit Recognition**\n",
        "\n",
        "# **Marks: 30**\n",
        "\n",
        "Welcome to the project on classification using Convolutional Neural Networks. We will continue to work with the Street View Housing Numbers (SVHN) image dataset for this project.\n",
        "\n",
        "--------------\n",
        "## **Context** \n",
        "--------------\n",
        "\n",
        "One of the most interesting tasks in deep learning is to recognize objects in natural scenes. The ability to process visual information using machine learning algorithms can be very useful as demonstrated in various applications.\n",
        "\n",
        "The SVHN dataset contains over 600,000 labeled digits cropped from street-level photos. It is one of the most popular image recognition datasets. It has been used in neural networks created by Google to improve the map quality by automatically transcribing the address numbers from a patch of pixels. The transcribed number with a known street address helps pinpoint the location of the building it represents. \n",
        "\n",
        "----------------\n",
        "## **Objective**\n",
        "----------------\n",
        "\n",
        "To build a CNN model that can recognize the digits in the images.\n",
        "\n",
        "-------------\n",
        "## **Dataset**\n",
        "-------------\n",
        "Here, we will use a subset of the original data to save some computation time. The dataset is provided as a .h5 file. The basic preprocessing steps have been applied on the dataset."
      ]
    },
    {
      "cell_type": "markdown",
      "metadata": {
        "id": "8z2Z7-OAs8QG"
      },
      "source": [
        "## **Mount the drive**\n",
        "\n",
        "Let us start by mounting the Google drive. You can run the below cell to mount the Google drive."
      ]
    },
    {
      "cell_type": "code",
      "execution_count": 42,
      "metadata": {
        "colab": {
          "base_uri": "https://localhost:8080/"
        },
        "id": "03lDyQUuef7z",
        "outputId": "ac69429d-7bbf-4475-b304-f08d30ef2665"
      },
      "outputs": [
        {
          "output_type": "stream",
          "name": "stdout",
          "text": [
            "Drive already mounted at /content/drive; to attempt to forcibly remount, call drive.mount(\"/content/drive\", force_remount=True).\n"
          ]
        }
      ],
      "source": [
        "from google.colab import drive\n",
        "\n",
        "drive.mount('/content/drive')"
      ]
    },
    {
      "cell_type": "markdown",
      "metadata": {
        "id": "C8U3DUa3eNsT"
      },
      "source": [
        "## **Importing the necessary libraries**"
      ]
    },
    {
      "cell_type": "code",
      "execution_count": 43,
      "metadata": {
        "id": "-dVzeuF3eQx1"
      },
      "outputs": [],
      "source": [
        "import numpy as np\n",
        "\n",
        "import pandas as pd\n",
        "\n",
        "import matplotlib.pyplot as plt\n",
        "\n",
        "import seaborn as sns\n",
        "\n",
        "from sklearn.model_selection import train_test_split\n",
        "\n",
        "from sklearn.preprocessing import MinMaxScaler\n",
        "\n",
        "import tensorflow as tf\n",
        "\n",
        "from tensorflow.keras.models import Sequential\n",
        "\n",
        "from tensorflow.keras.layers import Dense, Conv2D, MaxPool2D, BatchNormalization, Dropout, Flatten, LeakyReLU\n",
        "\n",
        "from tensorflow.keras.losses import categorical_crossentropy\n",
        "\n",
        "from tensorflow.keras.optimizers import Adam\n",
        "\n",
        "from tensorflow.keras.utils import to_categorical"
      ]
    },
    {
      "cell_type": "markdown",
      "metadata": {
        "id": "ucnevGLoyKf_"
      },
      "source": [
        "**Let us check the version of tensorflow.**"
      ]
    },
    {
      "cell_type": "code",
      "execution_count": 44,
      "metadata": {
        "colab": {
          "base_uri": "https://localhost:8080/"
        },
        "id": "W5as47YxyJVk",
        "outputId": "264a0a8f-3972-4ab9-df01-62a2a3bf06e4"
      },
      "outputs": [
        {
          "output_type": "stream",
          "name": "stdout",
          "text": [
            "2.8.2\n"
          ]
        }
      ],
      "source": [
        "print(tf.__version__)"
      ]
    },
    {
      "cell_type": "markdown",
      "metadata": {
        "id": "8lsux2ZwyTTR"
      },
      "source": [
        "## **Load the dataset**\n",
        "\n",
        "- Let us now load the dataset that is available as a .h5 file.\n",
        "- Split the data into the train and the test dataset."
      ]
    },
    {
      "cell_type": "code",
      "execution_count": 45,
      "metadata": {
        "id": "BApX9qgNsqV0",
        "scrolled": true
      },
      "outputs": [],
      "source": [
        "import h5py\n",
        "\n",
        "# Open the file as read only\n",
        "# User can make changes in the path as required\n",
        "\n",
        "h5f = h5py.File('/content/drive/MyDrive/SVHN_single_grey1.h5', 'r')\n",
        "\n",
        "# Load the the train and the test dataset\n",
        "\n",
        "X_train = h5f['X_train'][:]\n",
        "\n",
        "y_train = h5f['y_train'][:]\n",
        "\n",
        "X_test = h5f['X_test'][:]\n",
        "\n",
        "y_test = h5f['y_test'][:]\n",
        "\n",
        "\n",
        "# Close this file\n",
        "\n",
        "h5f.close()"
      ]
    },
    {
      "cell_type": "markdown",
      "metadata": {
        "id": "hVe0CYpUgj7w"
      },
      "source": [
        "Let's check the number of images in the training and the testing dataset."
      ]
    },
    {
      "cell_type": "code",
      "execution_count": 46,
      "metadata": {
        "colab": {
          "base_uri": "https://localhost:8080/"
        },
        "id": "y3lwKpOefkpA",
        "outputId": "781c704e-9ca7-4821-f329-90078ba6e84a"
      },
      "outputs": [
        {
          "output_type": "execute_result",
          "data": {
            "text/plain": [
              "(42000, 18000)"
            ]
          },
          "metadata": {},
          "execution_count": 46
        }
      ],
      "source": [
        "len(X_train), len(X_test)"
      ]
    },
    {
      "cell_type": "markdown",
      "metadata": {
        "id": "akTUOfLlgwoM"
      },
      "source": [
        "**Observation:**\n",
        "- There are 42,000 images in the training data and 18,000 images in the testing data. "
      ]
    },
    {
      "cell_type": "markdown",
      "metadata": {
        "id": "kxODV6HKykuc"
      },
      "source": [
        "## **Visualizing images**\n",
        "\n",
        "- Use X_train to visualize the first 10 images.\n",
        "- Use Y_train to print the first 10 labels."
      ]
    },
    {
      "cell_type": "markdown",
      "metadata": {
        "id": "giALtffZKDNq"
      },
      "source": [
        "### **Question 1: Complete the below code to visualize the first 10 images in the dataset. (1 Mark)**"
      ]
    },
    {
      "cell_type": "code",
      "execution_count": 47,
      "metadata": {
        "colab": {
          "base_uri": "https://localhost:8080/",
          "height": 95
        },
        "id": "Bvsc8ytHsqWD",
        "outputId": "d560c6aa-3563-4ce6-bacd-f042ba88cfae"
      },
      "outputs": [
        {
          "output_type": "display_data",
          "data": {
            "text/plain": [
              "<Figure size 720x72 with 10 Axes>"
            ],
            "image/png": "[encoded data removed]"
          },
          "metadata": {
            "needs_background": "light"
          }
        },
        {
          "output_type": "stream",
          "name": "stdout",
          "text": [
            "label for each of the above image: [2 6 7 4 4 0 3 0 7 3]\n"
          ]
        }
      ],
      "source": [
        "# Visualizing the first 10 images in the dataset and printing their labels\n",
        "\n",
        "%matplotlib inline\n",
        "\n",
        "import matplotlib.pyplot as plt\n",
        "\n",
        "plt.figure(figsize = (10, 1))\n",
        "\n",
        "for i in range(10):\n",
        "\n",
        "    plt.subplot(1, 10, i+1)\n",
        "    \n",
        "    plt.imshow(X_train[i], cmap = \"gray\")  # Write the function to visualize images\n",
        "\n",
        "    plt.axis('off')\n",
        "\n",
        "plt.show()\n",
        "\n",
        "print('label for each of the above image: %s' % (y_train[0:10]))"
      ]
    },
    {
      "cell_type": "markdown",
      "metadata": {
        "id": "kzoyeXHOy80N"
      },
      "source": [
        "## **Data preparation**\n",
        "\n",
        "- Print the shape and the array of pixels for the first image in the training dataset.\n",
        "- Reshape the train and the test dataset because we always have to give a 4D array as input to CNNs.\n",
        "- Normalize the train and the test dataset by dividing by 255.\n",
        "- Print the new shapes of the train and the test dataset.\n",
        "- One-hot encode the target variable."
      ]
    },
    {
      "cell_type": "code",
      "execution_count": 48,
      "metadata": {
        "colab": {
          "base_uri": "https://localhost:8080/"
        },
        "id": "NqndzQXng9rL",
        "outputId": "a95ba077-5cb6-4645-d116-1423b050ecb8"
      },
      "outputs": [
        {
          "output_type": "stream",
          "name": "stdout",
          "text": [
            "Shape: (32, 32)\n",
            "\n",
            "First image:\n",
            " [[ 33.0704  30.2601  26.852  ...  71.4471  58.2204  42.9939]\n",
            " [ 25.2283  25.5533  29.9765 ... 113.0209 103.3639  84.2949]\n",
            " [ 26.2775  22.6137  40.4763 ... 113.3028 121.775  115.4228]\n",
            " ...\n",
            " [ 28.5502  36.212   45.0801 ...  24.1359  25.0927  26.0603]\n",
            " [ 38.4352  26.4733  23.2717 ...  28.1094  29.4683  30.0661]\n",
            " [ 50.2984  26.0773  24.0389 ...  49.6682  50.853   53.0377]]\n"
          ]
        }
      ],
      "source": [
        "# Shape and the array of pixels for the first image\n",
        "\n",
        "print(\"Shape:\", X_train[0].shape)\n",
        "\n",
        "print()\n",
        "\n",
        "print(\"First image:\\n\", X_train[0])"
      ]
    },
    {
      "cell_type": "code",
      "execution_count": 49,
      "metadata": {
        "id": "D9YPwf9ysqWU"
      },
      "outputs": [],
      "source": [
        "# Reshaping the dataset to be able to pass them to CNNs. Remember that we always have to give a 4D array as input to CNNs\n",
        "\n",
        "X_train = X_train.reshape(X_train.shape[0], 32, 32, 1)\n",
        "\n",
        "X_test = X_test.reshape(X_test.shape[0], 32, 32, 1)"
      ]
    },
    {
      "cell_type": "code",
      "execution_count": 50,
      "metadata": {
        "id": "q_yUUTp_mUzB"
      },
      "outputs": [],
      "source": [
        "# Normalize inputs from 0-255 to 0-1\n",
        "\n",
        "X_train = X_train / 255.0\n",
        "\n",
        "X_test = X_test / 255.0"
      ]
    },
    {
      "cell_type": "code",
      "execution_count": 51,
      "metadata": {
        "colab": {
          "base_uri": "https://localhost:8080/"
        },
        "id": "t7FSqOpamWkH",
        "outputId": "3311f0cf-71d3-4cfa-f4eb-9ff7c06a2c94"
      },
      "outputs": [
        {
          "output_type": "stream",
          "name": "stdout",
          "text": [
            "Training set: (42000, 32, 32, 1) (42000,)\n",
            "Test set: (18000, 32, 32, 1) (18000,)\n"
          ]
        }
      ],
      "source": [
        "# New shape \n",
        "\n",
        "print('Training set:', X_train.shape, y_train.shape)\n",
        "\n",
        "print('Test set:', X_test.shape, y_test.shape)"
      ]
    },
    {
      "cell_type": "markdown",
      "metadata": {
        "id": "10QaOV-xR7Jn"
      },
      "source": [
        "### **Question 2: One-hot encode the labels in the target variable y_train and y_test. (2 Marks)**"
      ]
    },
    {
      "cell_type": "code",
      "execution_count": 52,
      "metadata": {
        "colab": {
          "base_uri": "https://localhost:8080/"
        },
        "id": "zL0lYER4sqWw",
        "outputId": "bddd018d-0cb3-42a5-f840-06dfacc63391"
      },
      "outputs": [
        {
          "output_type": "execute_result",
          "data": {
            "text/plain": [
              "array([[0., 1., 0., ..., 0., 0., 0.],\n",
              "       [0., 0., 0., ..., 1., 0., 0.],\n",
              "       [0., 0., 1., ..., 0., 0., 0.],\n",
              "       ...,\n",
              "       [0., 0., 0., ..., 1., 0., 0.],\n",
              "       [0., 0., 0., ..., 0., 0., 1.],\n",
              "       [0., 0., 1., ..., 0., 0., 0.]], dtype=float32)"
            ]
          },
          "metadata": {},
          "execution_count": 52
        }
      ],
      "source": [
        "# Write the function and appropriate variable name to one-hot encode the output\n",
        "\n",
        "y_train = to_categorical(y_train)\n",
        "\n",
        "y_test = to_categorical(y_test)\n",
        "\n",
        "# test labels\n",
        "\n",
        "y_test"
      ]
    },
    {
      "cell_type": "markdown",
      "metadata": {
        "id": "ViqPOTquCF76"
      },
      "source": [
        "**Observation:**\n",
        "- Notice that each entry of the target variable is a one-hot encoded vector instead of a single label."
      ]
    },
    {
      "cell_type": "markdown",
      "metadata": {
        "id": "yH-gVrzuByNA"
      },
      "source": [
        "## **Model Building**\n",
        "\n",
        "Now that we have done data preprocessing, let's build a CNN model."
      ]
    },
    {
      "cell_type": "code",
      "execution_count": 53,
      "metadata": {
        "id": "ZY5pyF4-KDNt"
      },
      "outputs": [],
      "source": [
        "# Fixing the seed for random number generators\n",
        "\n",
        "np.random.seed(42)\n",
        "\n",
        "import random\n",
        "\n",
        "random.seed(42)\n",
        "\n",
        "tf.random.set_seed(42)"
      ]
    },
    {
      "cell_type": "markdown",
      "metadata": {
        "id": "UJDUoaEj1d6e"
      },
      "source": [
        "### **Model Architecture**\n",
        "- **Write a function** that returns a sequential model with the following architecture:\n",
        " - First Convolutional layer with **16 filters and the kernel size of 3x3**. Use the **'same' padding** and provide the **input shape = (32, 32, 1)**\n",
        " - Add a **LeakyRelu layer** with the **slope equal to 0.1**\n",
        " - Second Convolutional layer with **32 filters and the kernel size of 3x3 with 'same' padding**\n",
        " - Another **LeakyRelu** with the **slope equal to 0.1**\n",
        " - A **max-pooling layer** with a **pool size of 2x2**\n",
        " - **Flatten** the output from the previous layer\n",
        " - Add a **dense layer with 32 nodes**\n",
        " - Add a **LeakyRelu layer with the slope equal to 0.1**\n",
        " - Add the final **output layer with nodes equal to the number of classes, i.e., 10** and **'softmax' as the activation function**\n",
        " - Compile the model with the **loss equal to categorical_crossentropy, optimizer equal to Adam(learning_rate = 0.001), and metric equal to 'accuracy'**. Do not fit the model here, just return the compiled model.\n",
        "- Call the function cnn_model_1 and store the output in a new variable.\n",
        "- Print the summary of the model.\n",
        "- Fit the model on the training data with a **validation split of 0.2, batch size = 32, verbose = 1, and epochs = 20**. Store the model building history to use later for visualization."
      ]
    },
    {
      "cell_type": "markdown",
      "metadata": {
        "id": "JWsAd45JKDNu"
      },
      "source": [
        "### **Question 3: Build and train a CNN model as per the above mentioned architecture. (10 Marks)**"
      ]
    },
    {
      "cell_type": "code",
      "execution_count": 54,
      "metadata": {
        "id": "Cmi81Gr5sqW-"
      },
      "outputs": [],
      "source": [
        "# Define the model\n",
        "\n",
        "def cnn_model_1():\n",
        "\n",
        "    model = Sequential() \n",
        "    \n",
        "    # Add layers as per the architecture mentioned above in the same sequence\n",
        "\n",
        "    model.add(Conv2D(16, kernel_size=(3,3), input_shape=(32,32,1), padding='same'))\n",
        "\n",
        "    model.add(LeakyReLU(alpha=0.1))\n",
        "\n",
        "    model.add(Conv2D(32, kernel_size=(3,3), padding='same'))\n",
        "\n",
        "    model.add(LeakyReLU(alpha=0.1))\n",
        "\n",
        "    model.add(MaxPool2D(pool_size=(2,2)))\n",
        "\n",
        "    model.add(Flatten())\n",
        "\n",
        "    model.add(Dense(32))\n",
        "\n",
        "    model.add(LeakyReLU(alpha=0.1))\n",
        "\n",
        "    model.add(Dense(10, activation='softmax'))\n",
        "    \n",
        "    # Compile the model\n",
        "\n",
        "    model.compile(optimizer='Adam',\n",
        "                  loss='categorical_crossentropy',\n",
        "                  metrics=['accuracy']    \n",
        "    )\n",
        "    \n",
        "    return model"
      ]
    },
    {
      "cell_type": "code",
      "execution_count": 55,
      "metadata": {
        "id": "bGCUI_xsImnH"
      },
      "outputs": [],
      "source": [
        "# Build the model\n",
        "\n",
        "model_1 = cnn_model_1()"
      ]
    },
    {
      "cell_type": "code",
      "execution_count": 56,
      "metadata": {
        "colab": {
          "base_uri": "https://localhost:8080/"
        },
        "id": "ckJsLdmdQadZ",
        "outputId": "36d95e74-149f-4c0c-f7ad-3b857f4a87c5"
      },
      "outputs": [
        {
          "output_type": "stream",
          "name": "stdout",
          "text": [
            "Model: \"sequential_7\"\n",
            "_________________________________________________________________\n",
            " Layer (type)                Output Shape              Param #   \n",
            "=================================================================\n",
            " conv2d_10 (Conv2D)          (None, 32, 32, 16)        160       \n",
            "                                                                 \n",
            " leaky_re_lu_8 (LeakyReLU)   (None, 32, 32, 16)        0         \n",
            "                                                                 \n",
            " conv2d_11 (Conv2D)          (None, 32, 32, 32)        4640      \n",
            "                                                                 \n",
            " leaky_re_lu_9 (LeakyReLU)   (None, 32, 32, 32)        0         \n",
            "                                                                 \n",
            " max_pooling2d_3 (MaxPooling  (None, 16, 16, 32)       0         \n",
            " 2D)                                                             \n",
            "                                                                 \n",
            " flatten_3 (Flatten)         (None, 8192)              0         \n",
            "                                                                 \n",
            " dense_5 (Dense)             (None, 32)                262176    \n",
            "                                                                 \n",
            " leaky_re_lu_10 (LeakyReLU)  (None, 32)                0         \n",
            "                                                                 \n",
            " dense_6 (Dense)             (None, 10)                330       \n",
            "                                                                 \n",
            "=================================================================\n",
            "Total params: 267,306\n",
            "Trainable params: 267,306\n",
            "Non-trainable params: 0\n",
            "_________________________________________________________________\n"
          ]
        }
      ],
      "source": [
        "# Print the model summary\n",
        "\n",
        "model_1.summary()"
      ]
    },
    {
      "cell_type": "code",
      "execution_count": 59,
      "metadata": {
        "id": "3Fy3Dif_zcCk",
        "colab": {
          "base_uri": "https://localhost:8080/"
        },
        "outputId": "04ab5872-550a-4833-9258-bd26e36eaa15"
      },
      "outputs": [
        {
          "output_type": "stream",
          "name": "stdout",
          "text": [
            "Epoch 1/20\n",
            "1050/1050 [==============================] - 9s 9ms/step - loss: 0.4189 - accuracy: 0.8754 - val_loss: 0.3997 - val_accuracy: 0.8815\n",
            "Epoch 2/20\n",
            "1050/1050 [==============================] - 7s 6ms/step - loss: 0.3675 - accuracy: 0.8918 - val_loss: 0.3397 - val_accuracy: 0.9020\n",
            "Epoch 3/20\n",
            "1050/1050 [==============================] - 10s 9ms/step - loss: 0.3274 - accuracy: 0.9015 - val_loss: 0.2987 - val_accuracy: 0.9132\n",
            "Epoch 4/20\n",
            "1050/1050 [==============================] - 7s 6ms/step - loss: 0.2929 - accuracy: 0.9121 - val_loss: 0.2623 - val_accuracy: 0.9255\n",
            "Epoch 5/20\n",
            "1050/1050 [==============================] - 7s 7ms/step - loss: 0.2624 - accuracy: 0.9198 - val_loss: 0.2743 - val_accuracy: 0.9213\n",
            "Epoch 6/20\n",
            "1050/1050 [==============================] - 9s 9ms/step - loss: 0.2340 - accuracy: 0.9309 - val_loss: 0.2651 - val_accuracy: 0.9228\n",
            "Epoch 7/20\n",
            "1050/1050 [==============================] - 7s 6ms/step - loss: 0.2139 - accuracy: 0.9335 - val_loss: 0.2178 - val_accuracy: 0.9412\n",
            "Epoch 8/20\n",
            "1050/1050 [==============================] - 7s 6ms/step - loss: 0.1913 - accuracy: 0.9413 - val_loss: 0.2400 - val_accuracy: 0.9316\n",
            "Epoch 9/20\n",
            "1050/1050 [==============================] - 7s 7ms/step - loss: 0.1747 - accuracy: 0.9458 - val_loss: 0.2027 - val_accuracy: 0.9454\n",
            "Epoch 10/20\n",
            "1050/1050 [==============================] - 10s 9ms/step - loss: 0.1530 - accuracy: 0.9518 - val_loss: 0.2030 - val_accuracy: 0.9470\n",
            "Epoch 11/20\n",
            "1050/1050 [==============================] - 9s 9ms/step - loss: 0.1409 - accuracy: 0.9551 - val_loss: 0.2203 - val_accuracy: 0.9429\n",
            "Epoch 12/20\n",
            "1050/1050 [==============================] - 7s 6ms/step - loss: 0.1270 - accuracy: 0.9598 - val_loss: 0.1987 - val_accuracy: 0.9493\n",
            "Epoch 13/20\n",
            "1050/1050 [==============================] - 9s 9ms/step - loss: 0.1155 - accuracy: 0.9625 - val_loss: 0.1985 - val_accuracy: 0.9516\n",
            "Epoch 14/20\n",
            "1050/1050 [==============================] - 7s 6ms/step - loss: 0.1062 - accuracy: 0.9654 - val_loss: 0.1972 - val_accuracy: 0.9524\n",
            "Epoch 15/20\n",
            "1050/1050 [==============================] - 7s 6ms/step - loss: 0.0932 - accuracy: 0.9708 - val_loss: 0.2145 - val_accuracy: 0.9521\n",
            "Epoch 16/20\n",
            "1050/1050 [==============================] - 9s 9ms/step - loss: 0.0884 - accuracy: 0.9704 - val_loss: 0.1957 - val_accuracy: 0.9567\n",
            "Epoch 17/20\n",
            "1050/1050 [==============================] - 9s 9ms/step - loss: 0.0764 - accuracy: 0.9753 - val_loss: 0.2069 - val_accuracy: 0.9565\n",
            "Epoch 18/20\n",
            "1050/1050 [==============================] - 8s 7ms/step - loss: 0.0767 - accuracy: 0.9746 - val_loss: 0.2069 - val_accuracy: 0.9572\n",
            "Epoch 19/20\n",
            "1050/1050 [==============================] - 9s 9ms/step - loss: 0.0648 - accuracy: 0.9782 - val_loss: 0.2180 - val_accuracy: 0.9591\n",
            "Epoch 20/20\n",
            "1050/1050 [==============================] - 9s 9ms/step - loss: 0.0664 - accuracy: 0.9785 - val_loss: 0.2220 - val_accuracy: 0.9612\n"
          ]
        }
      ],
      "source": [
        "# Fit the model\n",
        "\n",
        "history_model_1 = model_1.fit(X_train, y_train, batch_size=32,epochs=20,verbose=1,validation_data=(X_train, y_train), validation_split=0.2)"
      ]
    },
    {
      "cell_type": "markdown",
      "metadata": {
        "id": "tKOckG-KPyLg"
      },
      "source": [
        "### **Plotting the validation and training accuracies**"
      ]
    },
    {
      "cell_type": "markdown",
      "metadata": {
        "id": "JPzfIf9kKDNw"
      },
      "source": [
        "### **Question 4: Write your observations on the below plot. (2 Marks)**"
      ]
    },
    {
      "cell_type": "code",
      "execution_count": 60,
      "metadata": {
        "colab": {
          "base_uri": "https://localhost:8080/",
          "height": 497
        },
        "id": "lt77zgGMP4yw",
        "outputId": "a91c7684-bd65-4598-be7d-bf39454a2719"
      },
      "outputs": [
        {
          "output_type": "display_data",
          "data": {
            "text/plain": [
              "<Figure size 576x576 with 1 Axes>"
            ],
            "image/png": "[encoded data removed]"
          },
          "metadata": {
            "needs_background": "light"
          }
        }
      ],
      "source": [
        "# Plotting the accuracies\n",
        "\n",
        "dict_hist = history_model_1.history\n",
        "\n",
        "list_ep = [i for i in range(1, 21)]\n",
        "\n",
        "plt.figure(figsize = (8, 8))\n",
        "\n",
        "plt.plot(list_ep, dict_hist['accuracy'], ls = '--', label = 'accuracy')\n",
        "\n",
        "plt.plot(list_ep, dict_hist['val_accuracy'], ls = '--', label = 'val_accuracy')\n",
        "\n",
        "plt.ylabel('Accuracy')\n",
        "\n",
        "plt.xlabel('Epochs')\n",
        "\n",
        "plt.legend()\n",
        "\n",
        "plt.show()"
      ]
    },
    {
      "cell_type": "markdown",
      "metadata": {
        "id": "pGBbQpLONX7k"
      },
      "source": [
        "**Observations:My observation is that a CNN performs drastically better than a ANN and also that the accuracy spiked a lot more extremely than for the ANN model. I also notice that there is a slightly greater difference between the val_accuracy and the actual accuracy.**"
      ]
    },
    {
      "cell_type": "markdown",
      "metadata": {
        "id": "z0qgLMBZm5-K"
      },
      "source": [
        "Let's build another model and see if we can get a better model with generalized performance.\n",
        "\n",
        "First, we need to clear the previous model's history from the Keras backend. Also, let's fix the seed again after clearing the backend."
      ]
    },
    {
      "cell_type": "code",
      "execution_count": 61,
      "metadata": {
        "id": "y98BpLxsok_H"
      },
      "outputs": [],
      "source": [
        "# Clearing backend\n",
        "\n",
        "from tensorflow.keras import backend\n",
        "\n",
        "backend.clear_session()"
      ]
    },
    {
      "cell_type": "code",
      "execution_count": 62,
      "metadata": {
        "id": "HbKi93HTolGW"
      },
      "outputs": [],
      "source": [
        "# Fixing the seed for random number generators\n",
        "\n",
        "np.random.seed(42)\n",
        "\n",
        "import random\n",
        "\n",
        "random.seed(42)\n",
        "\n",
        "tf.random.set_seed(42)"
      ]
    },
    {
      "cell_type": "markdown",
      "metadata": {
        "id": "lT6o3TIKuCtk"
      },
      "source": [
        "### **Second Model Architecture**\n",
        "\n",
        "- Write a function that returns a sequential model with the following architecture:\n",
        " - First Convolutional layer with **16 filters and the kernel size of 3x3**. Use the **'same' padding** and provide the **input shape = (32, 32, 1)**\n",
        " - Add a **LeakyRelu layer** with the **slope equal to 0.1**\n",
        " - Second Convolutional layer with **32 filters and the kernel size of 3x3 with 'same' padding**\n",
        " - Add **LeakyRelu** with the **slope equal to 0.1**\n",
        " - Add a **max-pooling layer** with a **pool size of 2x2**\n",
        " - Add a **BatchNormalization layer**\n",
        " - Third Convolutional layer with **32 filters and the kernel size of 3x3 with 'same' padding**\n",
        " - Add a **LeakyRelu layer with the slope equal to 0.1**\n",
        " - Fourth Convolutional layer **64 filters and the kernel size of 3x3 with 'same' padding** \n",
        " - Add a **LeakyRelu layer with the slope equal to 0.1**\n",
        " - Add a **max-pooling layer** with a **pool size of 2x2**\n",
        " - Add a **BatchNormalization layer**\n",
        " - **Flatten** the output from the previous layer\n",
        " - Add a **dense layer with 32 nodes**\n",
        " - Add a **LeakyRelu layer with the slope equal to 0.1**\n",
        " - Add a **dropout layer with the rate equal to 0.5**\n",
        " - Add the final **output layer with nodes equal to the number of classes, i.e., 10** and **'softmax' as the activation function**\n",
        " - Compile the model with the **categorical_crossentropy loss, adam optimizers (learning_rate = 0.001), and metric equal to 'accuracy'**. Do not fit the model here, just return the compiled model.\n",
        "- Call the function cnn_model_2 and store the model in a new variable.\n",
        "- Print the summary of the model.\n",
        "- Fit the model on the train data with a **validation split of 0.2, batch size = 128, verbose = 1, and epochs = 30**. Store the model building history to use later for visualization."
      ]
    },
    {
      "cell_type": "markdown",
      "metadata": {
        "id": "y5IBLS1eKDNy"
      },
      "source": [
        "### **Question 5: Build and train the second CNN model as per the above mentioned architecture. (10 Marks)**"
      ]
    },
    {
      "cell_type": "code",
      "execution_count": 63,
      "metadata": {
        "id": "EEPYLFIPnSDP"
      },
      "outputs": [],
      "source": [
        "# Define the model\n",
        "\n",
        "def cnn_model_2():\n",
        "    \n",
        "    model = Sequential()\n",
        "    \n",
        "    # Add layers as per the architecture mentioned above in the same sequence\n",
        "\n",
        "    model.add(Conv2D(16, kernel_size=(3,3), input_shape=(32,32,1), padding='same'))\n",
        "\n",
        "    model.add(LeakyReLU(alpha=0.1))\n",
        "\n",
        "    model.add(Conv2D(32, kernel_size=(3,3), padding='same'))\n",
        "\n",
        "    model.add(LeakyReLU(alpha=0.1))\n",
        "\n",
        "    model.add(MaxPool2D(pool_size=(2,2)))\n",
        "\n",
        "    model.add(BatchNormalization())\n",
        "\n",
        "    model.add(Conv2D(32, kernel_size=(3,3), padding='same'))\n",
        "\n",
        "    model.add(LeakyReLU(alpha=0.1))\n",
        "\n",
        "    model.add(Conv2D(64, kernel_size=(3,3), padding='same'))\n",
        "\n",
        "    model.add(LeakyReLU(alpha=0.1))\n",
        "\n",
        "    model.add(MaxPool2D(pool_size=(2,2)))\n",
        "\n",
        "    model.add(BatchNormalization())\n",
        "\n",
        "    model.add(Flatten())\n",
        "\n",
        "    model.add(Dense(32))\n",
        "\n",
        "    model.add(LeakyReLU(alpha=0.1))\n",
        "\n",
        "    model.add(Dropout(0.5))\n",
        "\n",
        "    model.add(Dense(10, activation='softmax'))\n",
        "\n",
        "    # Compile the model\n",
        "\n",
        "    model.compile(optimizer='Adam',\n",
        "                  loss='categorical_crossentropy',\n",
        "                  metrics=['accuracy']    \n",
        "    )\n",
        "    \n",
        "    return model"
      ]
    },
    {
      "cell_type": "code",
      "execution_count": 64,
      "metadata": {
        "id": "AKjDY4plnSFl"
      },
      "outputs": [],
      "source": [
        "# Build the model\n",
        "\n",
        "model_2 = cnn_model_2()"
      ]
    },
    {
      "cell_type": "code",
      "execution_count": 65,
      "metadata": {
        "id": "gz_6SVrU2swZ",
        "colab": {
          "base_uri": "https://localhost:8080/"
        },
        "outputId": "1a40e75b-3381-4f91-9eca-ca93e7a673e5"
      },
      "outputs": [
        {
          "output_type": "stream",
          "name": "stdout",
          "text": [
            "Model: \"sequential\"\n",
            "_________________________________________________________________\n",
            " Layer (type)                Output Shape              Param #   \n",
            "=================================================================\n",
            " conv2d (Conv2D)             (None, 32, 32, 16)        160       \n",
            "                                                                 \n",
            " leaky_re_lu (LeakyReLU)     (None, 32, 32, 16)        0         \n",
            "                                                                 \n",
            " conv2d_1 (Conv2D)           (None, 32, 32, 32)        4640      \n",
            "                                                                 \n",
            " leaky_re_lu_1 (LeakyReLU)   (None, 32, 32, 32)        0         \n",
            "                                                                 \n",
            " max_pooling2d (MaxPooling2D  (None, 16, 16, 32)       0         \n",
            " )                                                               \n",
            "                                                                 \n",
            " batch_normalization (BatchN  (None, 16, 16, 32)       128       \n",
            " ormalization)                                                   \n",
            "                                                                 \n",
            " conv2d_2 (Conv2D)           (None, 16, 16, 32)        9248      \n",
            "                                                                 \n",
            " leaky_re_lu_2 (LeakyReLU)   (None, 16, 16, 32)        0         \n",
            "                                                                 \n",
            " conv2d_3 (Conv2D)           (None, 16, 16, 64)        18496     \n",
            "                                                                 \n",
            " leaky_re_lu_3 (LeakyReLU)   (None, 16, 16, 64)        0         \n",
            "                                                                 \n",
            " max_pooling2d_1 (MaxPooling  (None, 8, 8, 64)         0         \n",
            " 2D)                                                             \n",
            "                                                                 \n",
            " batch_normalization_1 (Batc  (None, 8, 8, 64)         256       \n",
            " hNormalization)                                                 \n",
            "                                                                 \n",
            " flatten (Flatten)           (None, 4096)              0         \n",
            "                                                                 \n",
            " dense (Dense)               (None, 32)                131104    \n",
            "                                                                 \n",
            " leaky_re_lu_4 (LeakyReLU)   (None, 32)                0         \n",
            "                                                                 \n",
            " dropout (Dropout)           (None, 32)                0         \n",
            "                                                                 \n",
            " dense_1 (Dense)             (None, 10)                330       \n",
            "                                                                 \n",
            "=================================================================\n",
            "Total params: 164,362\n",
            "Trainable params: 164,170\n",
            "Non-trainable params: 192\n",
            "_________________________________________________________________\n"
          ]
        }
      ],
      "source": [
        "# Print the summary\n",
        "\n",
        "model_2.summary()"
      ]
    },
    {
      "cell_type": "code",
      "execution_count": 66,
      "metadata": {
        "id": "IQ0Sc4R-y-uu",
        "colab": {
          "base_uri": "https://localhost:8080/"
        },
        "outputId": "0b572296-be35-4f4b-9095-8f1438e44a2a"
      },
      "outputs": [
        {
          "output_type": "stream",
          "name": "stdout",
          "text": [
            "Epoch 1/30\n",
            "263/263 [==============================] - 4s 11ms/step - loss: 1.4715 - accuracy: 0.5002 - val_loss: 2.4420 - val_accuracy: 0.2223\n",
            "Epoch 2/30\n",
            "263/263 [==============================] - 3s 11ms/step - loss: 0.6965 - accuracy: 0.7842 - val_loss: 0.6779 - val_accuracy: 0.7930\n",
            "Epoch 3/30\n",
            "263/263 [==============================] - 3s 10ms/step - loss: 0.5605 - accuracy: 0.8280 - val_loss: 0.5286 - val_accuracy: 0.8407\n",
            "Epoch 4/30\n",
            "263/263 [==============================] - 3s 10ms/step - loss: 0.5016 - accuracy: 0.8460 - val_loss: 0.5494 - val_accuracy: 0.8342\n",
            "Epoch 5/30\n",
            "263/263 [==============================] - 3s 10ms/step - loss: 0.4497 - accuracy: 0.8651 - val_loss: 0.4180 - val_accuracy: 0.8860\n",
            "Epoch 6/30\n",
            "263/263 [==============================] - 3s 10ms/step - loss: 0.4145 - accuracy: 0.8727 - val_loss: 0.3876 - val_accuracy: 0.8902\n",
            "Epoch 7/30\n",
            "263/263 [==============================] - 2s 9ms/step - loss: 0.3840 - accuracy: 0.8813 - val_loss: 0.5053 - val_accuracy: 0.8540\n",
            "Epoch 8/30\n",
            "263/263 [==============================] - 2s 9ms/step - loss: 0.3593 - accuracy: 0.8890 - val_loss: 0.3935 - val_accuracy: 0.8920\n",
            "Epoch 9/30\n",
            "263/263 [==============================] - 2s 9ms/step - loss: 0.3318 - accuracy: 0.8964 - val_loss: 0.3637 - val_accuracy: 0.9039\n",
            "Epoch 10/30\n",
            "263/263 [==============================] - 2s 9ms/step - loss: 0.3182 - accuracy: 0.9005 - val_loss: 0.3980 - val_accuracy: 0.8913\n",
            "Epoch 11/30\n",
            "263/263 [==============================] - 3s 10ms/step - loss: 0.2974 - accuracy: 0.9052 - val_loss: 0.4103 - val_accuracy: 0.9045\n",
            "Epoch 12/30\n",
            "263/263 [==============================] - 3s 10ms/step - loss: 0.2863 - accuracy: 0.9093 - val_loss: 0.4582 - val_accuracy: 0.8971\n",
            "Epoch 13/30\n",
            "263/263 [==============================] - 3s 10ms/step - loss: 0.2732 - accuracy: 0.9116 - val_loss: 0.4470 - val_accuracy: 0.8904\n",
            "Epoch 14/30\n",
            "263/263 [==============================] - 3s 10ms/step - loss: 0.2601 - accuracy: 0.9174 - val_loss: 0.3644 - val_accuracy: 0.9088\n",
            "Epoch 15/30\n",
            "263/263 [==============================] - 3s 10ms/step - loss: 0.2468 - accuracy: 0.9208 - val_loss: 0.4214 - val_accuracy: 0.8925\n",
            "Epoch 16/30\n",
            "263/263 [==============================] - 3s 10ms/step - loss: 0.2368 - accuracy: 0.9243 - val_loss: 0.3838 - val_accuracy: 0.9017\n",
            "Epoch 17/30\n",
            "263/263 [==============================] - 3s 12ms/step - loss: 0.2302 - accuracy: 0.9255 - val_loss: 0.3651 - val_accuracy: 0.9089\n",
            "Epoch 18/30\n",
            "263/263 [==============================] - 2s 9ms/step - loss: 0.2221 - accuracy: 0.9273 - val_loss: 0.3892 - val_accuracy: 0.9067\n",
            "Epoch 19/30\n",
            "263/263 [==============================] - 2s 9ms/step - loss: 0.2192 - accuracy: 0.9296 - val_loss: 0.3861 - val_accuracy: 0.9117\n",
            "Epoch 20/30\n",
            "263/263 [==============================] - 3s 10ms/step - loss: 0.2052 - accuracy: 0.9330 - val_loss: 0.4003 - val_accuracy: 0.9076\n",
            "Epoch 21/30\n",
            "263/263 [==============================] - 3s 12ms/step - loss: 0.1985 - accuracy: 0.9348 - val_loss: 0.3763 - val_accuracy: 0.9119\n",
            "Epoch 22/30\n",
            "263/263 [==============================] - 3s 10ms/step - loss: 0.1920 - accuracy: 0.9365 - val_loss: 0.3977 - val_accuracy: 0.9029\n",
            "Epoch 23/30\n",
            "263/263 [==============================] - 2s 9ms/step - loss: 0.1910 - accuracy: 0.9382 - val_loss: 0.4083 - val_accuracy: 0.9090\n",
            "Epoch 24/30\n",
            "263/263 [==============================] - 2s 9ms/step - loss: 0.1880 - accuracy: 0.9382 - val_loss: 0.4650 - val_accuracy: 0.9111\n",
            "Epoch 25/30\n",
            "263/263 [==============================] - 2s 9ms/step - loss: 0.1740 - accuracy: 0.9420 - val_loss: 0.4354 - val_accuracy: 0.9094\n",
            "Epoch 26/30\n",
            "263/263 [==============================] - 3s 10ms/step - loss: 0.1700 - accuracy: 0.9430 - val_loss: 0.4247 - val_accuracy: 0.9037\n",
            "Epoch 27/30\n",
            "263/263 [==============================] - 2s 9ms/step - loss: 0.1669 - accuracy: 0.9439 - val_loss: 0.5422 - val_accuracy: 0.9000\n",
            "Epoch 28/30\n",
            "263/263 [==============================] - 3s 10ms/step - loss: 0.1635 - accuracy: 0.9441 - val_loss: 0.4857 - val_accuracy: 0.9093\n",
            "Epoch 29/30\n",
            "263/263 [==============================] - 2s 9ms/step - loss: 0.1547 - accuracy: 0.9481 - val_loss: 0.4784 - val_accuracy: 0.9075\n",
            "Epoch 30/30\n",
            "263/263 [==============================] - 2s 9ms/step - loss: 0.1528 - accuracy: 0.9483 - val_loss: 0.5228 - val_accuracy: 0.9051\n"
          ]
        }
      ],
      "source": [
        "# Fit the model\n",
        "\n",
        "history_model_2 = model_2.fit(X_train, y_train, batch_size=128,epochs=30,verbose=1,validation_data=(X_train, y_train), validation_split=0.2)"
      ]
    },
    {
      "cell_type": "markdown",
      "metadata": {
        "id": "zKCdy59GKDN1"
      },
      "source": [
        "### **Plotting the validation and training accuracies**"
      ]
    },
    {
      "cell_type": "markdown",
      "metadata": {
        "id": "PyhUtMy3KDN1"
      },
      "source": [
        "### **Question 6: Write your observations on the below plot. (2 Marks)**"
      ]
    },
    {
      "cell_type": "code",
      "execution_count": 67,
      "metadata": {
        "colab": {
          "base_uri": "https://localhost:8080/",
          "height": 497
        },
        "id": "01ig6BrF1KVy",
        "outputId": "0be8f989-2458-4816-f8e1-40da085b77ba"
      },
      "outputs": [
        {
          "output_type": "display_data",
          "data": {
            "text/plain": [
              "<Figure size 576x576 with 1 Axes>"
            ],
            "image/png": "[encoded data removed]"
          },
          "metadata": {
            "needs_background": "light"
          }
        }
      ],
      "source": [
        "# Plotting the accuracies\n",
        "\n",
        "dict_hist = history_model_2.history\n",
        "\n",
        "list_ep = [i for i in range(1, 31)]\n",
        "\n",
        "plt.figure(figsize = (8, 8))\n",
        "\n",
        "plt.plot(list_ep, dict_hist['accuracy'], ls = '--', label = 'accuracy')\n",
        "\n",
        "plt.plot(list_ep, dict_hist['val_accuracy'], ls = '--', label = 'val_accuracy')\n",
        "\n",
        "plt.ylabel('Accuracy')\n",
        "\n",
        "plt.xlabel('Epochs')\n",
        "\n",
        "plt.legend()\n",
        "\n",
        "plt.show()"
      ]
    },
    {
      "cell_type": "markdown",
      "metadata": {
        "id": "VPW1LlD61RDn"
      },
      "source": [
        "**Observations:This model had a much higher spike than the last model and remained at peak accuracy for longer. There is still a bit of difference between the val_accuracy and the accuracy. The performance is excellent.**"
      ]
    },
    {
      "cell_type": "markdown",
      "metadata": {
        "id": "8kuXx9Bvu00f"
      },
      "source": [
        "## **Predictions on the test data**\n",
        "\n",
        "- Make predictions on the test set using the second model.\n",
        "- Print the obtained results using the classification report and the confusion matrix.\n",
        "- Final observations on the obtained results."
      ]
    },
    {
      "cell_type": "markdown",
      "metadata": {
        "id": "eHCRwRbgKDN2"
      },
      "source": [
        "### **Question 7: Make predictions on the test data using the second model. (1 Mark)** "
      ]
    },
    {
      "cell_type": "code",
      "execution_count": 68,
      "metadata": {
        "id": "xbWMEtTj5Ad0"
      },
      "outputs": [],
      "source": [
        "# Make prediction on the test data using model_2 \n",
        "\n",
        "test_pred = model_2.predict(X_test)\n",
        "\n",
        "test_pred = np.argmax(test_pred, axis = -1)"
      ]
    },
    {
      "cell_type": "markdown",
      "metadata": {
        "id": "i3li8Ib08yts"
      },
      "source": [
        "**Note:** Earlier, we noticed that each entry of the target variable is a one-hot encoded vector, but to print the classification report and confusion matrix, we must convert each entry of y_test to a single label."
      ]
    },
    {
      "cell_type": "code",
      "execution_count": 69,
      "metadata": {
        "id": "NByu7uAQ8x9P"
      },
      "outputs": [],
      "source": [
        "# Converting each entry to single label from one-hot encoded vector\n",
        "\n",
        "y_test = np.argmax(y_test, axis = -1)"
      ]
    },
    {
      "cell_type": "markdown",
      "metadata": {
        "id": "aVCa-ysWKDN3"
      },
      "source": [
        "### **Question 8: Write your final observations on the performance of the model on the test data. (2 Marks)**"
      ]
    },
    {
      "cell_type": "code",
      "execution_count": 70,
      "metadata": {
        "colab": {
          "base_uri": "https://localhost:8080/",
          "height": 629
        },
        "id": "xRddeJ-3EHT1",
        "outputId": "21f8caa3-6a11-4049-8b08-4c7982b5768d"
      },
      "outputs": [
        {
          "output_type": "stream",
          "name": "stdout",
          "text": [
            "              precision    recall  f1-score   support\n",
            "\n",
            "           0       0.91      0.94      0.93      1814\n",
            "           1       0.91      0.90      0.90      1828\n",
            "           2       0.93      0.92      0.93      1803\n",
            "           3       0.94      0.84      0.89      1719\n",
            "           4       0.90      0.94      0.92      1812\n",
            "           5       0.89      0.93      0.91      1768\n",
            "           6       0.86      0.92      0.89      1832\n",
            "           7       0.93      0.93      0.93      1808\n",
            "           8       0.93      0.87      0.90      1812\n",
            "           9       0.90      0.90      0.90      1804\n",
            "\n",
            "    accuracy                           0.91     18000\n",
            "   macro avg       0.91      0.91      0.91     18000\n",
            "weighted avg       0.91      0.91      0.91     18000\n",
            "\n"
          ]
        },
        {
          "output_type": "display_data",
          "data": {
            "text/plain": [
              "<Figure size 576x360 with 2 Axes>"
            ],
            "image/png": "[encoded data removed]"
          },
          "metadata": {
            "needs_background": "light"
          }
        }
      ],
      "source": [
        "# Importing required functions\n",
        "\n",
        "from sklearn.metrics import classification_report\n",
        "\n",
        "from sklearn.metrics import confusion_matrix\n",
        "\n",
        "# Printing the classification report\n",
        "\n",
        "print(classification_report(y_test, test_pred))\n",
        "\n",
        "# Plotting the heatmap using confusion matrix\n",
        "\n",
        "cm = confusion_matrix(y_test, test_pred)\n",
        "\n",
        "plt.figure(figsize = (8, 5))\n",
        "\n",
        "sns.heatmap(cm, annot = True,  fmt = '.0f')\n",
        "\n",
        "plt.ylabel('Actual')\n",
        "\n",
        "plt.xlabel('Predicted')\n",
        "\n",
        "plt.show()"
      ]
    },
    {
      "cell_type": "markdown",
      "metadata": {
        "id": "DjErl4GA2u9s"
      },
      "source": [
        "**Final Observations: We can see that this models was extremely accurate and the biggest mistake it made was in distinguishing a 3 from a 5 and the smallest mistake it made was in distinguishing the 5 from a 0 where it didn't mak even one mistake. Overall the CNN performs widely better than the ANN.**"
      ]
    }
  ],
  "metadata": {
    "accelerator": "GPU",
    "colab": {
      "collapsed_sections": [],
      "provenance": [],
      "include_colab_link": true
    },
    "kernelspec": {
      "display_name": "Python 3 (ipykernel)",
      "language": "python",
      "name": "python3"
    },
    "language_info": {
      "codemirror_mode": {
        "name": "ipython",
        "version": 3
      },
      "file_extension": ".py",
      "mimetype": "text/x-python",
      "name": "python",
      "nbconvert_exporter": "python",
      "pygments_lexer": "ipython3",
      "version": "3.9.7"
    }
  },
  "nbformat": 4,
  "nbformat_minor": 0
}