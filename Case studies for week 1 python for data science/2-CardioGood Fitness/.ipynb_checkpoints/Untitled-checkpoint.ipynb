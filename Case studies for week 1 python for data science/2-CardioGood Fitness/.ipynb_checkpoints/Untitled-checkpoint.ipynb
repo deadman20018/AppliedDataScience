{
 "cells": [
  {
   "cell_type": "code",
   "execution_count": 19,
   "id": "c3405149",
   "metadata": {},
   "outputs": [
    {
     "name": "stdout",
     "output_type": "stream",
     "text": [
      "This list isn't divisible by 2\n"
     ]
    }
   ],
   "source": [
    "numberList = [3,4,5,6,7,8,9,10,11,12,13,14,15,16]\n",
    "def findMedian(medianList):\n",
    "    medianList.sort()\n",
    "    if(len(medianList)%2==0):\n",
    "        print(\"This list is divisible by 2\")\n",
    "        medianListCalc = len(medianList)/2\n",
    "        print(medianListCalc)\n",
    "    else:\n",
    "        print(\"This list isn't divisible by 2\")\n",
    "findMedian(numberList)"
   ]
  }
 ],
 "metadata": {
  "kernelspec": {
   "display_name": "Python 3 (ipykernel)",
   "language": "python",
   "name": "python3"
  },
  "language_info": {
   "codemirror_mode": {
    "name": "ipython",
    "version": 3
   },
   "file_extension": ".py",
   "mimetype": "text/x-python",
   "name": "python",
   "nbconvert_exporter": "python",
   "pygments_lexer": "ipython3",
   "version": "3.9.12"
  }
 },
 "nbformat": 4,
 "nbformat_minor": 5
}
