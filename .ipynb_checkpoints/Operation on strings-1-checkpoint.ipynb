{
 "cells": [
  {
   "cell_type": "markdown",
   "metadata": {},
   "source": [
    "### 1. Given a string - 'Today is a sunny day'\n",
    "\n",
    "#### a. Extract the words 'Today' and 'sunny'\n",
    "\n",
    "#### b. Obtain the last 2 letters - 'ay'\n",
    "\n",
    "#### c. Write the statement backwards"
   ]
  },
  {
   "cell_type": "code",
   "execution_count": 9,
   "metadata": {},
   "outputs": [
    {
     "name": "stdout",
     "output_type": "stream",
     "text": [
      "Today sunny\n"
     ]
    }
   ],
   "source": [
    "#Write code here for part a\n",
    "str1='Today is a sunny day'\n",
    "print(str1[0:5], str1[11:16])"
   ]
  },
  {
   "cell_type": "code",
   "execution_count": 62,
   "metadata": {},
   "outputs": [
    {
     "data": {
      "text/plain": [
       "'ay'"
      ]
     },
     "execution_count": 62,
     "metadata": {},
     "output_type": "execute_result"
    }
   ],
   "source": [
    "str1[-2:]"
   ]
  },
  {
   "cell_type": "code",
   "execution_count": 51,
   "metadata": {},
   "outputs": [
    {
     "data": {
      "text/plain": [
       "'yad ynnus a si yadoT'"
      ]
     },
     "execution_count": 51,
     "metadata": {},
     "output_type": "execute_result"
    }
   ],
   "source": [
    "#Write code here for part c\n",
    "str1[::-1]"
   ]
  },
  {
   "cell_type": "markdown",
   "metadata": {},
   "source": [
    "### 2. Concatenate the variables, string = 'How old are you?'  and num = 34, using the '+' operator.\n",
    "\n",
    "**Hint:** Convert the 'num' variable to a string data type in order to concatenate it with the 'string' variable."
   ]
  },
  {
   "cell_type": "code",
   "execution_count": 60,
   "metadata": {},
   "outputs": [
    {
     "name": "stdout",
     "output_type": "stream",
     "text": [
      "How old are you? 34\n"
     ]
    }
   ],
   "source": [
    "#Write code here\n",
    "varAge = \"How old are you?\"\n",
    "num = \"34\"\n",
    "print(varAge + \" \" + num)"
   ]
  }
 ],
 "metadata": {
  "kernelspec": {
   "display_name": "Python 3 (ipykernel)",
   "language": "python",
   "name": "python3"
  },
  "language_info": {
   "codemirror_mode": {
    "name": "ipython",
    "version": 3
   },
   "file_extension": ".py",
   "mimetype": "text/x-python",
   "name": "python",
   "nbconvert_exporter": "python",
   "pygments_lexer": "ipython3",
   "version": "3.9.12"
  }
 },
 "nbformat": 4,
 "nbformat_minor": 2
}
