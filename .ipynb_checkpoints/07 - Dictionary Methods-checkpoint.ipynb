{
 "cells": [
  {
   "cell_type": "markdown",
   "metadata": {},
   "source": [
    "### Dictionary Methods"
   ]
  },
  {
   "cell_type": "markdown",
   "metadata": {},
   "source": [
    "- Q1. Write a code to add a key to a dictionary"
   ]
  },
  {
   "cell_type": "markdown",
   "metadata": {},
   "source": [
    "**Use the given dictionary and add a key (4:16)**\n",
    "\n",
    "dictionary1 = {1:1, 2:4, 3:9}"
   ]
  },
  {
   "cell_type": "code",
   "execution_count": 4,
   "metadata": {},
   "outputs": [
    {
     "data": {
      "text/plain": [
       "{1: 1, 2: 4, 3: 9, 4: 16}"
      ]
     },
     "execution_count": 4,
     "metadata": {},
     "output_type": "execute_result"
    }
   ],
   "source": [
    "import pandas as pd\n",
    "dictionary1 = {1:1, 2:4, 3:9}\n",
    "dictionary1[4]=16\n",
    "dictionary1"
   ]
  },
  {
   "cell_type": "markdown",
   "metadata": {},
   "source": [
    "- Q2. Replace the value of one key in the dictionary"
   ]
  },
  {
   "cell_type": "markdown",
   "metadata": {},
   "source": [
    "**Use the given dictionary and replace the value of 'A' **\n",
    "\n",
    "dictionary2 = {'A':'Apple', 'O':'Orange', 'G':'Grapes'}"
   ]
  },
  {
   "cell_type": "code",
   "execution_count": 23,
   "metadata": {},
   "outputs": [
    {
     "data": {
      "text/plain": [
       "{'O': 'Orange', 'G': 'Grapes', 'B': 'Apple'}"
      ]
     },
     "execution_count": 23,
     "metadata": {},
     "output_type": "execute_result"
    }
   ],
   "source": [
    "dictionary2 = {'A':'Apple', 'O':'Orange', 'G':'Grapes'}\n",
    "dictionary2.pop('A')\n",
    "changeKeys = {'B':'Apple'}\n",
    "dictionary2.update(changeKeys)\n",
    "#I'm quite sure there's a more efficient way to do this and if not there should be (if there is an actual human checking these) I'd like to recieve an email to be notified of the actual correct way of doing this at: giancarloborreo@gmail.com \n",
    "dictionary2"
   ]
  }
 ],
 "metadata": {
  "kernelspec": {
   "display_name": "Python 3 (ipykernel)",
   "language": "python",
   "name": "python3"
  },
  "language_info": {
   "codemirror_mode": {
    "name": "ipython",
    "version": 3
   },
   "file_extension": ".py",
   "mimetype": "text/x-python",
   "name": "python",
   "nbconvert_exporter": "python",
   "pygments_lexer": "ipython3",
   "version": "3.9.12"
  }
 },
 "nbformat": 4,
 "nbformat_minor": 2
}
